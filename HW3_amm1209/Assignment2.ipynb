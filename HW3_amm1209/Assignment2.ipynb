{
 "cells": [
  {
   "cell_type": "code",
   "execution_count": 10,
   "metadata": {},
   "outputs": [
    {
     "name": "stdout",
     "output_type": "stream",
     "text": [
      "Populating the interactive namespace from numpy and matplotlib\n"
     ]
    }
   ],
   "source": [
    "import os\n",
    "import pandas as pd\n",
    "import pylab as pl\n",
    "%pylab inline\n",
    "\n",
    "\n",
    "    \n"
   ]
  },
  {
   "cell_type": "code",
   "execution_count": 2,
   "metadata": {
    "collapsed": true
   },
   "outputs": [],
   "source": [
    "puidata = os.getenv(\"PUIDATA\")\n",
    "if puidata is None:\n",
    "    os.environ[\"PUIDATA\"] = \"%s/PUIdata\"%os.getenv(\"HOME\")\n",
    "    puidata = os.getenv(\"PUIDATA\")"
   ]
  },
  {
   "cell_type": "code",
   "execution_count": 3,
   "metadata": {},
   "outputs": [
    {
     "name": "stdout",
     "output_type": "stream",
     "text": [
      "/Users/anaemendezmendez/Documents/NYU_PHD/Fall_2018/PUI2018/PUIDATA\n"
     ]
    }
   ],
   "source": [
    "print(puidata)"
   ]
  },
  {
   "cell_type": "code",
   "execution_count": 38,
   "metadata": {},
   "outputs": [
    {
     "name": "stdout",
     "output_type": "stream",
     "text": [
      "  % Total    % Received % Xferd  Average Speed   Time    Time     Time  Current\n",
      "                                 Dload  Upload   Total   Spent    Left  Speed\n",
      "100  2501    0  2501    0     0   2501      0 --:--:-- --:--:-- --:--:-- 10780\n"
     ]
    }
   ],
   "source": [
    "!curl https://data.cityofnewyork.us/api/views/fcau-jc6k/rows.csv?accessType=DOWNLOAD > infant_mortality.csv"
   ]
  },
  {
   "cell_type": "code",
   "execution_count": 39,
   "metadata": {},
   "outputs": [],
   "source": [
    "!mv infant_mortality.csv $PUIDATA"
   ]
  },
  {
   "cell_type": "code",
   "execution_count": 40,
   "metadata": {},
   "outputs": [
    {
     "name": "stdout",
     "output_type": "stream",
     "text": [
      "income.csv           infant_mortality.csv nycdeaths.csv\r\n"
     ]
    }
   ],
   "source": [
    "!ls $PUIDATA"
   ]
  },
  {
   "cell_type": "code",
   "execution_count": 41,
   "metadata": {
    "collapsed": true
   },
   "outputs": [],
   "source": [
    "mortality = pd.read_csv(\"%s/infant_mortality.csv\"%os.getenv(\"PUIDATA\"))"
   ]
  },
  {
   "cell_type": "code",
   "execution_count": 142,
   "metadata": {},
   "outputs": [
    {
     "data": {
      "text/html": [
       "<div>\n",
       "<style>\n",
       "    .dataframe thead tr:only-child th {\n",
       "        text-align: right;\n",
       "    }\n",
       "\n",
       "    .dataframe thead th {\n",
       "        text-align: left;\n",
       "    }\n",
       "\n",
       "    .dataframe tbody tr th {\n",
       "        vertical-align: top;\n",
       "    }\n",
       "</style>\n",
       "<table border=\"1\" class=\"dataframe\">\n",
       "  <thead>\n",
       "    <tr style=\"text-align: right;\">\n",
       "      <th></th>\n",
       "      <th>Year</th>\n",
       "      <th>Materal Race or Ethnicity</th>\n",
       "      <th>Infant Mortality Rate</th>\n",
       "      <th>Neonatal Mortality Rate</th>\n",
       "      <th>Postneonatal Mortality Rate</th>\n",
       "      <th>Infant Deaths</th>\n",
       "      <th>Neonatal Infant Deaths</th>\n",
       "      <th>Postneonatal Infant Deaths</th>\n",
       "      <th>Number of Live Births</th>\n",
       "    </tr>\n",
       "  </thead>\n",
       "  <tbody>\n",
       "    <tr>\n",
       "      <th>0</th>\n",
       "      <td>2007</td>\n",
       "      <td>Black Non-Hispanic</td>\n",
       "      <td>9.8</td>\n",
       "      <td>6.0</td>\n",
       "      <td>3.8</td>\n",
       "      <td>287.0</td>\n",
       "      <td>177.0</td>\n",
       "      <td>110.0</td>\n",
       "      <td>29268</td>\n",
       "    </tr>\n",
       "    <tr>\n",
       "      <th>1</th>\n",
       "      <td>2013</td>\n",
       "      <td>Other Hispanic</td>\n",
       "      <td>4.3</td>\n",
       "      <td>2.6</td>\n",
       "      <td>1.7</td>\n",
       "      <td>120.0</td>\n",
       "      <td>72.0</td>\n",
       "      <td>48.0</td>\n",
       "      <td>27621</td>\n",
       "    </tr>\n",
       "    <tr>\n",
       "      <th>2</th>\n",
       "      <td>2013</td>\n",
       "      <td>Black Non-Hispanic</td>\n",
       "      <td>8.3</td>\n",
       "      <td>5.5</td>\n",
       "      <td>2.9</td>\n",
       "      <td>201.0</td>\n",
       "      <td>132.0</td>\n",
       "      <td>69.0</td>\n",
       "      <td>24108</td>\n",
       "    </tr>\n",
       "    <tr>\n",
       "      <th>3</th>\n",
       "      <td>2008</td>\n",
       "      <td>White Non-Hispanic</td>\n",
       "      <td>3.3</td>\n",
       "      <td>2.1</td>\n",
       "      <td>1.1</td>\n",
       "      <td>125.0</td>\n",
       "      <td>82.0</td>\n",
       "      <td>43.0</td>\n",
       "      <td>38383</td>\n",
       "    </tr>\n",
       "    <tr>\n",
       "      <th>4</th>\n",
       "      <td>2009</td>\n",
       "      <td>Black Non-Hispanic</td>\n",
       "      <td>9.5</td>\n",
       "      <td>5.8</td>\n",
       "      <td>3.7</td>\n",
       "      <td>259.0</td>\n",
       "      <td>158.0</td>\n",
       "      <td>101.0</td>\n",
       "      <td>27405</td>\n",
       "    </tr>\n",
       "    <tr>\n",
       "      <th>5</th>\n",
       "      <td>2010</td>\n",
       "      <td>Black Non-Hispanic</td>\n",
       "      <td>8.6</td>\n",
       "      <td>5.6</td>\n",
       "      <td>3.1</td>\n",
       "      <td>230.0</td>\n",
       "      <td>148.0</td>\n",
       "      <td>82.0</td>\n",
       "      <td>26635</td>\n",
       "    </tr>\n",
       "    <tr>\n",
       "      <th>6</th>\n",
       "      <td>2010</td>\n",
       "      <td>White Non-Hispanic</td>\n",
       "      <td>2.8</td>\n",
       "      <td>2.0</td>\n",
       "      <td>0.8</td>\n",
       "      <td>104.0</td>\n",
       "      <td>75.0</td>\n",
       "      <td>29.0</td>\n",
       "      <td>37780</td>\n",
       "    </tr>\n",
       "  </tbody>\n",
       "</table>\n",
       "</div>"
      ],
      "text/plain": [
       "   Year Materal Race or Ethnicity  Infant Mortality Rate  \\\n",
       "0  2007        Black Non-Hispanic                    9.8   \n",
       "1  2013            Other Hispanic                    4.3   \n",
       "2  2013        Black Non-Hispanic                    8.3   \n",
       "3  2008        White Non-Hispanic                    3.3   \n",
       "4  2009        Black Non-Hispanic                    9.5   \n",
       "5  2010        Black Non-Hispanic                    8.6   \n",
       "6  2010        White Non-Hispanic                    2.8   \n",
       "\n",
       "   Neonatal Mortality Rate  Postneonatal Mortality Rate  Infant Deaths  \\\n",
       "0                      6.0                          3.8          287.0   \n",
       "1                      2.6                          1.7          120.0   \n",
       "2                      5.5                          2.9          201.0   \n",
       "3                      2.1                          1.1          125.0   \n",
       "4                      5.8                          3.7          259.0   \n",
       "5                      5.6                          3.1          230.0   \n",
       "6                      2.0                          0.8          104.0   \n",
       "\n",
       "   Neonatal Infant Deaths  Postneonatal Infant Deaths  Number of Live Births  \n",
       "0                   177.0                       110.0                  29268  \n",
       "1                    72.0                        48.0                  27621  \n",
       "2                   132.0                        69.0                  24108  \n",
       "3                    82.0                        43.0                  38383  \n",
       "4                   158.0                       101.0                  27405  \n",
       "5                   148.0                        82.0                  26635  \n",
       "6                    75.0                        29.0                  37780  "
      ]
     },
     "execution_count": 142,
     "metadata": {},
     "output_type": "execute_result"
    }
   ],
   "source": [
    "mortality.head(7)"
   ]
  },
  {
   "cell_type": "code",
   "execution_count": 63,
   "metadata": {},
   "outputs": [],
   "source": [
    "mortality_sorted = mortality.sort_values(by=['Year', 'Materal Race or Ethnicity'])"
   ]
  },
  {
   "cell_type": "code",
   "execution_count": 64,
   "metadata": {},
   "outputs": [],
   "source": [
    "mortality_removed = mortality_sorted.drop(labels=['Neonatal Mortality Rate','Postneonatal Mortality Rate', 'Neonatal Infant Deaths','Infant Deaths','Postneonatal Infant Deaths','Number of Live Births'], axis=1)"
   ]
  },
  {
   "cell_type": "markdown",
   "metadata": {},
   "source": [
    "## Because in order for this data to make sense we need both the 'Year' and 'Maternal Race or Ethnicity' columns, I will keep both and make a plot for each race."
   ]
  },
  {
   "cell_type": "code",
   "execution_count": 66,
   "metadata": {},
   "outputs": [
    {
     "data": {
      "text/html": [
       "<div>\n",
       "<style>\n",
       "    .dataframe thead tr:only-child th {\n",
       "        text-align: right;\n",
       "    }\n",
       "\n",
       "    .dataframe thead th {\n",
       "        text-align: left;\n",
       "    }\n",
       "\n",
       "    .dataframe tbody tr th {\n",
       "        vertical-align: top;\n",
       "    }\n",
       "</style>\n",
       "<table border=\"1\" class=\"dataframe\">\n",
       "  <thead>\n",
       "    <tr style=\"text-align: right;\">\n",
       "      <th></th>\n",
       "      <th>Year</th>\n",
       "      <th>Materal Race or Ethnicity</th>\n",
       "      <th>Infant Mortality Rate</th>\n",
       "    </tr>\n",
       "  </thead>\n",
       "  <tbody>\n",
       "    <tr>\n",
       "      <th>25</th>\n",
       "      <td>2007</td>\n",
       "      <td>Asian and Pacific Islander</td>\n",
       "      <td>3.1</td>\n",
       "    </tr>\n",
       "    <tr>\n",
       "      <th>0</th>\n",
       "      <td>2007</td>\n",
       "      <td>Black Non-Hispanic</td>\n",
       "      <td>9.8</td>\n",
       "    </tr>\n",
       "    <tr>\n",
       "      <th>35</th>\n",
       "      <td>2007</td>\n",
       "      <td>Other Hispanic</td>\n",
       "      <td>4.3</td>\n",
       "    </tr>\n",
       "    <tr>\n",
       "      <th>9</th>\n",
       "      <td>2007</td>\n",
       "      <td>Other/Two or More</td>\n",
       "      <td>NaN</td>\n",
       "    </tr>\n",
       "    <tr>\n",
       "      <th>24</th>\n",
       "      <td>2007</td>\n",
       "      <td>Puerto Rican</td>\n",
       "      <td>6.3</td>\n",
       "    </tr>\n",
       "  </tbody>\n",
       "</table>\n",
       "</div>"
      ],
      "text/plain": [
       "    Year   Materal Race or Ethnicity  Infant Mortality Rate\n",
       "25  2007  Asian and Pacific Islander                    3.1\n",
       "0   2007          Black Non-Hispanic                    9.8\n",
       "35  2007              Other Hispanic                    4.3\n",
       "9   2007           Other/Two or More                    NaN\n",
       "24  2007                Puerto Rican                    6.3"
      ]
     },
     "execution_count": 66,
     "metadata": {},
     "output_type": "execute_result"
    }
   ],
   "source": [
    "mortality_removed.head()"
   ]
  },
  {
   "cell_type": "code",
   "execution_count": 80,
   "metadata": {},
   "outputs": [],
   "source": [
    "maternal_races = mortality_removed['Materal Race or Ethnicity'].unique().tolist()"
   ]
  },
  {
   "cell_type": "code",
   "execution_count": 84,
   "metadata": {
    "scrolled": true
   },
   "outputs": [
    {
     "data": {
      "text/plain": [
       "['Asian and Pacific Islander',\n",
       " 'Black Non-Hispanic',\n",
       " 'Other Hispanic',\n",
       " 'Other/Two or More',\n",
       " 'Puerto Rican',\n",
       " 'White Non-Hispanic']"
      ]
     },
     "execution_count": 84,
     "metadata": {},
     "output_type": "execute_result"
    }
   ],
   "source": [
    "maternal_races"
   ]
  },
  {
   "cell_type": "code",
   "execution_count": 150,
   "metadata": {},
   "outputs": [
    {
     "data": {
      "image/png": "[encoded data removed]",
      "text/plain": [
       "<matplotlib.figure.Figure at 0x12299a860>"
      ]
     },
     "metadata": {},
     "output_type": "display_data"
    },
    {
     "name": "stdout",
     "output_type": "stream",
     "text": [
      "Figure 1. Infant mortality rate in NYC against time in between 2007 and 2014 for race: Asian and Pacific Islander\n"
     ]
    },
    {
     "data": {
      "image/png": "[encoded data removed]",
      "text/plain": [
       "<matplotlib.figure.Figure at 0x12040aba8>"
      ]
     },
     "metadata": {},
     "output_type": "display_data"
    },
    {
     "name": "stdout",
     "output_type": "stream",
     "text": [
      "Figure 2. Infant mortality rate in NYC against time in between 2007 and 2014 for race: Black Non-Hispanic\n"
     ]
    },
    {
     "data": {
      "image/png": "[encoded data removed]",
      "text/plain": [
       "<matplotlib.figure.Figure at 0x1226e7ef0>"
      ]
     },
     "metadata": {},
     "output_type": "display_data"
    },
    {
     "name": "stdout",
     "output_type": "stream",
     "text": [
      "Figure 3. Infant mortality rate in NYC against time in between 2007 and 2014 for race: Other Hispanic\n"
     ]
    },
    {
     "data": {
      "image/png": "[encoded data removed]",
      "text/plain": [
       "<matplotlib.figure.Figure at 0x11ed29358>"
      ]
     },
     "metadata": {},
     "output_type": "display_data"
    },
    {
     "name": "stdout",
     "output_type": "stream",
     "text": [
      "Figure 4. Infant mortality rate in NYC against time in between 2007 and 2014 for race: Puerto Rican\n"
     ]
    },
    {
     "data": {
      "image/png": "[encoded data removed]",
      "text/plain": [
       "<matplotlib.figure.Figure at 0x1201efe48>"
      ]
     },
     "metadata": {},
     "output_type": "display_data"
    },
    {
     "name": "stdout",
     "output_type": "stream",
     "text": [
      "Figure 5. Infant mortality rate in NYC against time in between 2007 and 2014 for race: White Non-Hispanic\n",
      "\n",
      " Though infant mortality rate was higher for Puerto Ricans in 2014, the trend has been for infant mortality to\n",
      " decrease a little or remain more or less the same. There is no data for the race Other/Two or More, which is\n",
      " why there is not plot for that race.\n"
     ]
    }
   ],
   "source": [
    "count = 1\n",
    "for race in maternal_races:\n",
    "    a = mortality_removed[mortality_removed['Materal Race or Ethnicity']==race]\n",
    "    if ~a['Infant Mortality Rate'].isnull().all():\n",
    "        a.plot(x=\"Year\", y=\"Infant Mortality Rate\", kind='scatter')\n",
    "        pl.xlabel('Year')\n",
    "        pl.ylabel('Infant Mortality Rate')\n",
    "        pl.ylim(0,11)\n",
    "        pl.show()\n",
    "        print('Figure '+str(count)+'. Infant mortality rate in NYC against time in between 2007 and 2014 for race: ' + race)\n",
    "        count = count+1\n",
    "print('\\n Though infant mortality rate was higher for Puerto Ricans in 2014, the trend has been for infant mortality to\\n decrease a little or remain more or less the same. There is no data for the race Other/Two or More, which is\\n why there is not plot for that race.')\n"
   ]
  },
  {
   "cell_type": "code",
   "execution_count": null,
   "metadata": {
    "collapsed": true
   },
   "outputs": [],
   "source": []
  }
 ],
 "metadata": {
  "kernelspec": {
   "display_name": "Python 3",
   "language": "python",
   "name": "python3"
  },
  "language_info": {
   "codemirror_mode": {
    "name": "ipython",
    "version": 3
   },
   "file_extension": ".py",
   "mimetype": "text/x-python",
   "name": "python",
   "nbconvert_exporter": "python",
   "pygments_lexer": "ipython3",
   "version": "3.6.3"
  }
 },
 "nbformat": 4,
 "nbformat_minor": 2
}
