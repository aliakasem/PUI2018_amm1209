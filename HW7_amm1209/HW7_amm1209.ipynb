{
 "cells": [
  {
   "cell_type": "code",
   "execution_count": 74,
   "metadata": {},
   "outputs": [],
   "source": [
    "import numpy as np\n",
    "import pandas as pd\n",
    "import urllib3 as urllib\n",
    "import urllib.request\n",
    "import geopandas\n",
    "import os\n",
    "import choroplethNYC as cp\n",
    "from censusAPI import myAPI\n",
    "import requests\n",
    "import io"
   ]
  },
  {
   "cell_type": "markdown",
   "metadata": {},
   "source": [
    "# 1. PUMA : Public Use Microdata Area"
   ]
  },
  {
   "cell_type": "markdown",
   "metadata": {},
   "source": [
    "## 1.1 download the NYC Public Use Microdata Areas (PUMA) geometry fron the NYC Open Data API and read it in with geopandas"
   ]
  },
  {
   "cell_type": "code",
   "execution_count": 17,
   "metadata": {},
   "outputs": [],
   "source": [
    "puidata = os.getenv(\"PUIDATA\")\n",
    "if puidata is None:\n",
    "    os.environ[\"PUIDATA\"] = \"%s/PUIdata\"%os.getenv(\"HOME\")\n",
    "    puidata = os.getenv(\"PUIDATA\")"
   ]
  },
  {
   "cell_type": "code",
   "execution_count": 18,
   "metadata": {},
   "outputs": [],
   "source": [
    "url = 'https://data.cityofnewyork.us/api/geospatial/cwiz-gcty?method=export&format=Shapefile'"
   ]
  },
  {
   "cell_type": "code",
   "execution_count": 39,
   "metadata": {},
   "outputs": [
    {
     "data": {
      "text/plain": [
       "('puma.zip', <http.client.HTTPMessage at 0x11da61eb8>)"
      ]
     },
     "execution_count": 39,
     "metadata": {},
     "output_type": "execute_result"
    }
   ],
   "source": [
    "urllib.request.urlretrieve(url, \"puma.zip\")"
   ]
  },
  {
   "cell_type": "code",
   "execution_count": 41,
   "metadata": {},
   "outputs": [
    {
     "name": "stdout",
     "output_type": "stream",
     "text": [
      "Archive:  puma.zip\r\n",
      "  inflating: /Users/anaemendezmendez/Documents/NYU_PHD/Fall_2018/PUI2018/PUIDATA/geo_export_77abfcf4-d4da-438a-9d6f-b768f4cc1c1a.dbf  \r\n",
      "  inflating: /Users/anaemendezmendez/Documents/NYU_PHD/Fall_2018/PUI2018/PUIDATA/geo_export_77abfcf4-d4da-438a-9d6f-b768f4cc1c1a.shp  \r\n",
      "  inflating: /Users/anaemendezmendez/Documents/NYU_PHD/Fall_2018/PUI2018/PUIDATA/geo_export_77abfcf4-d4da-438a-9d6f-b768f4cc1c1a.shx  \r\n",
      "  inflating: /Users/anaemendezmendez/Documents/NYU_PHD/Fall_2018/PUI2018/PUIDATA/geo_export_77abfcf4-d4da-438a-9d6f-b768f4cc1c1a.prj  \r\n"
     ]
    }
   ],
   "source": [
    "!unzip puma.zip -d $PUIDATA"
   ]
  },
  {
   "cell_type": "code",
   "execution_count": 42,
   "metadata": {},
   "outputs": [],
   "source": [
    "!mv puma.zip $PUIDATA"
   ]
  },
  {
   "cell_type": "code",
   "execution_count": 43,
   "metadata": {},
   "outputs": [
    {
     "name": "stdout",
     "output_type": "stream",
     "text": [
      "201510-citibike-tripdata.csv\r\n",
      "201510-citibike-tripdata.zip\r\n",
      "201511-citibike-tripdata.csv\r\n",
      "201511-citibike-tripdata.zip\r\n",
      "201512-citibike-tripdata.csv\r\n",
      "201512-citibike-tripdata.zip\r\n",
      "201601-citibike-tripdata.csv\r\n",
      "201601-citibike-tripdata.zip\r\n",
      "201611-citibike-tripdata.csv\r\n",
      "201611-citibike-tripdata.zip\r\n",
      "\u001b[34mPLUTO_for_WEB\u001b[m\u001b[m\r\n",
      "collisions.json\r\n",
      "geo_export_77abfcf4-d4da-438a-9d6f-b768f4cc1c1a.dbf\r\n",
      "geo_export_77abfcf4-d4da-438a-9d6f-b768f4cc1c1a.prj\r\n",
      "geo_export_77abfcf4-d4da-438a-9d6f-b768f4cc1c1a.shp\r\n",
      "geo_export_77abfcf4-d4da-438a-9d6f-b768f4cc1c1a.shx\r\n",
      "income.csv\r\n",
      "infant_mortality.csv\r\n",
      "nyc_pluto_18v1.zip\r\n",
      "nycdeaths.csv\r\n",
      "puma.gz\r\n",
      "puma.zip\r\n",
      "times_x8.txt\r\n"
     ]
    }
   ],
   "source": [
    "!ls $PUIDATA"
   ]
  },
  {
   "cell_type": "code",
   "execution_count": 46,
   "metadata": {},
   "outputs": [],
   "source": [
    "pumashp = geopandas.GeoDataFrame.from_file(\"%s/geo_export_77abfcf4-d4da-438a-9d6f-b768f4cc1c1a.shp\"%os.getenv(\"PUIDATA\"))"
   ]
  },
  {
   "cell_type": "code",
   "execution_count": 47,
   "metadata": {},
   "outputs": [
    {
     "data": {
      "text/html": [
       "<div>\n",
       "<style scoped>\n",
       "    .dataframe tbody tr th:only-of-type {\n",
       "        vertical-align: middle;\n",
       "    }\n",
       "\n",
       "    .dataframe tbody tr th {\n",
       "        vertical-align: top;\n",
       "    }\n",
       "\n",
       "    .dataframe thead th {\n",
       "        text-align: right;\n",
       "    }\n",
       "</style>\n",
       "<table border=\"1\" class=\"dataframe\">\n",
       "  <thead>\n",
       "    <tr style=\"text-align: right;\">\n",
       "      <th></th>\n",
       "      <th>puma</th>\n",
       "      <th>shape_area</th>\n",
       "      <th>shape_leng</th>\n",
       "      <th>geometry</th>\n",
       "    </tr>\n",
       "  </thead>\n",
       "  <tbody>\n",
       "    <tr>\n",
       "      <th>0</th>\n",
       "      <td>3701</td>\n",
       "      <td>9.792852e+07</td>\n",
       "      <td>53227.144461</td>\n",
       "      <td>POLYGON ((-73.89641133483133 40.90450452082026...</td>\n",
       "    </tr>\n",
       "    <tr>\n",
       "      <th>1</th>\n",
       "      <td>3702</td>\n",
       "      <td>1.889860e+08</td>\n",
       "      <td>106050.002302</td>\n",
       "      <td>POLYGON ((-73.8442314689986 40.86942035096838,...</td>\n",
       "    </tr>\n",
       "    <tr>\n",
       "      <th>2</th>\n",
       "      <td>3703</td>\n",
       "      <td>2.670137e+08</td>\n",
       "      <td>304071.257466</td>\n",
       "      <td>(POLYGON ((-73.78833349834532 40.8346671297593...</td>\n",
       "    </tr>\n",
       "    <tr>\n",
       "      <th>3</th>\n",
       "      <td>3704</td>\n",
       "      <td>1.062129e+08</td>\n",
       "      <td>47970.901277</td>\n",
       "      <td>POLYGON ((-73.84792614069238 40.8713422330779,...</td>\n",
       "    </tr>\n",
       "    <tr>\n",
       "      <th>4</th>\n",
       "      <td>4015</td>\n",
       "      <td>8.105438e+07</td>\n",
       "      <td>50007.415493</td>\n",
       "      <td>POLYGON ((-73.95374853778468 40.63858633758547...</td>\n",
       "    </tr>\n",
       "  </tbody>\n",
       "</table>\n",
       "</div>"
      ],
      "text/plain": [
       "   puma    shape_area     shape_leng  \\\n",
       "0  3701  9.792852e+07   53227.144461   \n",
       "1  3702  1.889860e+08  106050.002302   \n",
       "2  3703  2.670137e+08  304071.257466   \n",
       "3  3704  1.062129e+08   47970.901277   \n",
       "4  4015  8.105438e+07   50007.415493   \n",
       "\n",
       "                                            geometry  \n",
       "0  POLYGON ((-73.89641133483133 40.90450452082026...  \n",
       "1  POLYGON ((-73.8442314689986 40.86942035096838,...  \n",
       "2  (POLYGON ((-73.78833349834532 40.8346671297593...  \n",
       "3  POLYGON ((-73.84792614069238 40.8713422330779,...  \n",
       "4  POLYGON ((-73.95374853778468 40.63858633758547...  "
      ]
     },
     "execution_count": 47,
     "metadata": {},
     "output_type": "execute_result"
    }
   ],
   "source": [
    "pumashp.head()"
   ]
  },
  {
   "cell_type": "code",
   "execution_count": 48,
   "metadata": {},
   "outputs": [
    {
     "data": {
      "text/plain": [
       "{'init': 'epsg:4326'}"
      ]
     },
     "execution_count": 48,
     "metadata": {},
     "output_type": "execute_result"
    }
   ],
   "source": [
    "pumashp.crs"
   ]
  },
  {
   "cell_type": "markdown",
   "metadata": {},
   "source": [
    "## 1.2 plot the PUMA NYC regions"
   ]
  },
  {
   "cell_type": "code",
   "execution_count": 53,
   "metadata": {},
   "outputs": [
    {
     "name": "stdout",
     "output_type": "stream",
     "text": [
      "Figure 1. Map of New York City by Public Use Microdata Areas (PUMAs)\n"
     ]
    },
    {
     "data": {
      "image/png": "[encoded data removed]",
      "text/plain": [
       "<Figure size 720x720 with 1 Axes>"
      ]
     },
     "metadata": {
      "needs_background": "light"
     },
     "output_type": "display_data"
    }
   ],
   "source": [
    "cp.choroplethNYC(pumashp, column=None, color=\"white\", edgecolor=\"black\", lw=2)\n",
    "print(\"Figure 1. Map of New York City by Public Use Microdata Areas (PUMAs)\")"
   ]
  },
  {
   "cell_type": "markdown",
   "metadata": {},
   "source": [
    "# 2. American Fact Finder data on percentage of houses with broadband internet access"
   ]
  },
  {
   "cell_type": "markdown",
   "metadata": {},
   "source": [
    "## 2.1 Get data with American Fact Finder (AFF) API:"
   ]
  },
  {
   "cell_type": "code",
   "execution_count": 61,
   "metadata": {},
   "outputs": [],
   "source": [
    "url = \"https://api.census.gov/data/2016/acs/acs1/variables.json\"\n",
    "\n",
    "resp = requests.request('GET', url)\n",
    "aff1y = json.loads(resp.text)"
   ]
  },
  {
   "cell_type": "code",
   "execution_count": 67,
   "metadata": {},
   "outputs": [],
   "source": [
    "affkeys = np.array(list(aff1y['variables'].keys()))"
   ]
  },
  {
   "cell_type": "code",
   "execution_count": 68,
   "metadata": {},
   "outputs": [
    {
     "data": {
      "text/plain": [
       "array(['for', 'in', 'B24010I_058E', ..., 'C21001G_007E', 'B11001A_004E',\n",
       "       'B17020C_011E'], dtype='<U14')"
      ]
     },
     "execution_count": 68,
     "metadata": {},
     "output_type": "execute_result"
    }
   ],
   "source": [
    "affkeys"
   ]
  },
  {
   "cell_type": "code",
   "execution_count": 70,
   "metadata": {},
   "outputs": [
    {
     "data": {
      "text/plain": [
       "[('B28002_008E',\n",
       "  'Estimate!!Total!!With an Internet subscription!!Broadband such as cable, fiber optic or DSL!!Broadband such as cable, fiber optic or DSL with no other type of Internet subscription'),\n",
       " ('B28002_007E',\n",
       "  'Estimate!!Total!!With an Internet subscription!!Broadband such as cable, fiber optic or DSL'),\n",
       " ('B28002_004E',\n",
       "  'Estimate!!Total!!With an Internet subscription!!Broadband of any type')]"
      ]
     },
     "execution_count": 70,
     "metadata": {},
     "output_type": "execute_result"
    }
   ],
   "source": [
    "#extracting variables of B28002 that contain \"broadband\"\n",
    "[(k, aff1y['variables'][k]['label'])  for k in affkeys if k.startswith (\"B28002\") and \n",
    " 'Broadband' in aff1y['variables'][k]['label']]"
   ]
  },
  {
   "cell_type": "code",
   "execution_count": 71,
   "metadata": {},
   "outputs": [
    {
     "data": {
      "text/plain": [
       "{'label': 'Estimate!!Total',\n",
       " 'concept': 'PRESENCE AND TYPES OF INTERNET SUBSCRIPTIONS IN HOUSEHOLD',\n",
       " 'predicateType': 'int',\n",
       " 'group': 'B28002',\n",
       " 'limit': 0,\n",
       " 'attributes': 'B28002_001M,B28002_001EA'}"
      ]
     },
     "execution_count": 71,
     "metadata": {},
     "output_type": "execute_result"
    }
   ],
   "source": [
    "keyNhouseholds = 'B28002_001E'\n",
    "aff1y['variables'][keyNhouseholds]"
   ]
  },
  {
   "cell_type": "code",
   "execution_count": 72,
   "metadata": {},
   "outputs": [
    {
     "data": {
      "text/plain": [
       "{'label': 'Estimate!!Total!!With an Internet subscription!!Broadband of any type',\n",
       " 'concept': 'PRESENCE AND TYPES OF INTERNET SUBSCRIPTIONS IN HOUSEHOLD',\n",
       " 'predicateType': 'int',\n",
       " 'group': 'B28002',\n",
       " 'limit': 0,\n",
       " 'attributes': 'B28002_004M,B28002_004EA'}"
      ]
     },
     "execution_count": 72,
     "metadata": {},
     "output_type": "execute_result"
    }
   ],
   "source": [
    "keyNBB = 'B28002_004E'\n",
    "aff1y['variables'][keyNBB]"
   ]
  },
  {
   "cell_type": "code",
   "execution_count": 75,
   "metadata": {},
   "outputs": [
    {
     "data": {
      "text/html": [
       "<div>\n",
       "<style scoped>\n",
       "    .dataframe tbody tr th:only-of-type {\n",
       "        vertical-align: middle;\n",
       "    }\n",
       "\n",
       "    .dataframe tbody tr th {\n",
       "        vertical-align: top;\n",
       "    }\n",
       "\n",
       "    .dataframe thead th {\n",
       "        text-align: right;\n",
       "    }\n",
       "</style>\n",
       "<table border=\"1\" class=\"dataframe\">\n",
       "  <thead>\n",
       "    <tr style=\"text-align: right;\">\n",
       "      <th></th>\n",
       "      <th>B28002_004E</th>\n",
       "      <th>NAME</th>\n",
       "      <th>state</th>\n",
       "      <th>public use microdata area</th>\n",
       "      <th>Unnamed: 4</th>\n",
       "    </tr>\n",
       "  </thead>\n",
       "  <tbody>\n",
       "    <tr>\n",
       "      <th>0</th>\n",
       "      <td>32607</td>\n",
       "      <td>St. Lawrence County PUMA, New York</td>\n",
       "      <td>36</td>\n",
       "      <td>100</td>\n",
       "      <td>NaN</td>\n",
       "    </tr>\n",
       "    <tr>\n",
       "      <th>1</th>\n",
       "      <td>50811</td>\n",
       "      <td>Clinton, Franklin, Essex &amp; Hamilton Counties P...</td>\n",
       "      <td>36</td>\n",
       "      <td>200</td>\n",
       "      <td>NaN</td>\n",
       "    </tr>\n",
       "    <tr>\n",
       "      <th>2</th>\n",
       "      <td>41210</td>\n",
       "      <td>Warren &amp; Washington Counties PUMA, New York</td>\n",
       "      <td>36</td>\n",
       "      <td>300</td>\n",
       "      <td>NaN</td>\n",
       "    </tr>\n",
       "    <tr>\n",
       "      <th>3</th>\n",
       "      <td>36075</td>\n",
       "      <td>Herkimer (North &amp; Central) &amp; Oneida (Outer) Co...</td>\n",
       "      <td>36</td>\n",
       "      <td>401</td>\n",
       "      <td>NaN</td>\n",
       "    </tr>\n",
       "    <tr>\n",
       "      <th>4</th>\n",
       "      <td>47786</td>\n",
       "      <td>Oneida County (Central)--Greater Utica &amp; Rome ...</td>\n",
       "      <td>36</td>\n",
       "      <td>402</td>\n",
       "      <td>NaN</td>\n",
       "    </tr>\n",
       "  </tbody>\n",
       "</table>\n",
       "</div>"
      ],
      "text/plain": [
       "   B28002_004E                                               NAME  state  \\\n",
       "0        32607                 St. Lawrence County PUMA, New York     36   \n",
       "1        50811  Clinton, Franklin, Essex & Hamilton Counties P...     36   \n",
       "2        41210        Warren & Washington Counties PUMA, New York     36   \n",
       "3        36075  Herkimer (North & Central) & Oneida (Outer) Co...     36   \n",
       "4        47786  Oneida County (Central)--Greater Utica & Rome ...     36   \n",
       "\n",
       "   public use microdata area  Unnamed: 4  \n",
       "0                        100         NaN  \n",
       "1                        200         NaN  \n",
       "2                        300         NaN  \n",
       "3                        401         NaN  \n",
       "4                        402         NaN  "
      ]
     },
     "execution_count": 75,
     "metadata": {},
     "output_type": "execute_result"
    }
   ],
   "source": [
    "url = \"https://api.census.gov/data/2016/acs/acs1?get=\" + keyNBB +\\\n",
    "\",NAME&for=public%20use%20microdata%20area:*&in=state:36&key=\" + myAPI\n",
    "resp = requests.request('GET', url).content\n",
    "pumaBB = pd.read_csv(io.StringIO(resp.decode('utf-8').replace('[','').replace(']','')))\n",
    "\n",
    "pumaBB.head()"
   ]
  },
  {
   "cell_type": "code",
   "execution_count": 76,
   "metadata": {},
   "outputs": [
    {
     "data": {
      "text/html": [
       "<div>\n",
       "<style scoped>\n",
       "    .dataframe tbody tr th:only-of-type {\n",
       "        vertical-align: middle;\n",
       "    }\n",
       "\n",
       "    .dataframe tbody tr th {\n",
       "        vertical-align: top;\n",
       "    }\n",
       "\n",
       "    .dataframe thead th {\n",
       "        text-align: right;\n",
       "    }\n",
       "</style>\n",
       "<table border=\"1\" class=\"dataframe\">\n",
       "  <thead>\n",
       "    <tr style=\"text-align: right;\">\n",
       "      <th></th>\n",
       "      <th>B28002_001E</th>\n",
       "      <th>NAME</th>\n",
       "      <th>state</th>\n",
       "      <th>public use microdata area</th>\n",
       "      <th>Unnamed: 4</th>\n",
       "    </tr>\n",
       "  </thead>\n",
       "  <tbody>\n",
       "    <tr>\n",
       "      <th>0</th>\n",
       "      <td>40479</td>\n",
       "      <td>St. Lawrence County PUMA, New York</td>\n",
       "      <td>36</td>\n",
       "      <td>100</td>\n",
       "      <td>NaN</td>\n",
       "    </tr>\n",
       "    <tr>\n",
       "      <th>1</th>\n",
       "      <td>67092</td>\n",
       "      <td>Clinton, Franklin, Essex &amp; Hamilton Counties P...</td>\n",
       "      <td>36</td>\n",
       "      <td>200</td>\n",
       "      <td>NaN</td>\n",
       "    </tr>\n",
       "    <tr>\n",
       "      <th>2</th>\n",
       "      <td>51614</td>\n",
       "      <td>Warren &amp; Washington Counties PUMA, New York</td>\n",
       "      <td>36</td>\n",
       "      <td>300</td>\n",
       "      <td>NaN</td>\n",
       "    </tr>\n",
       "    <tr>\n",
       "      <th>3</th>\n",
       "      <td>44300</td>\n",
       "      <td>Herkimer (North &amp; Central) &amp; Oneida (Outer) Co...</td>\n",
       "      <td>36</td>\n",
       "      <td>401</td>\n",
       "      <td>NaN</td>\n",
       "    </tr>\n",
       "    <tr>\n",
       "      <th>4</th>\n",
       "      <td>61146</td>\n",
       "      <td>Oneida County (Central)--Greater Utica &amp; Rome ...</td>\n",
       "      <td>36</td>\n",
       "      <td>402</td>\n",
       "      <td>NaN</td>\n",
       "    </tr>\n",
       "  </tbody>\n",
       "</table>\n",
       "</div>"
      ],
      "text/plain": [
       "   B28002_001E                                               NAME  state  \\\n",
       "0        40479                 St. Lawrence County PUMA, New York     36   \n",
       "1        67092  Clinton, Franklin, Essex & Hamilton Counties P...     36   \n",
       "2        51614        Warren & Washington Counties PUMA, New York     36   \n",
       "3        44300  Herkimer (North & Central) & Oneida (Outer) Co...     36   \n",
       "4        61146  Oneida County (Central)--Greater Utica & Rome ...     36   \n",
       "\n",
       "   public use microdata area  Unnamed: 4  \n",
       "0                        100         NaN  \n",
       "1                        200         NaN  \n",
       "2                        300         NaN  \n",
       "3                        401         NaN  \n",
       "4                        402         NaN  "
      ]
     },
     "execution_count": 76,
     "metadata": {},
     "output_type": "execute_result"
    }
   ],
   "source": [
    "#getting the first row of the table: the total number of households\n",
    "url = \"https://api.census.gov/data/2016/acs/acs1?get=\" + keyNhouseholds +\\\n",
    "\",NAME&for=public%20use%20microdata%20area:*&in=state:36&key=\" + myAPI\n",
    "resp = requests.request('GET', url).content\n",
    "pumaPP = pd.read_csv(io.StringIO(resp.decode('utf-8').replace('[','').replace(']','')))\n",
    "\n",
    "pumaPP.head()"
   ]
  },
  {
   "cell_type": "markdown",
   "metadata": {},
   "source": [
    "## 2.2 generate a feature for the percentage of households with broadband access"
   ]
  },
  {
   "cell_type": "code",
   "execution_count": 77,
   "metadata": {},
   "outputs": [],
   "source": [
    "pumaBB['B28002_001E'] = pumaPP['B28002_001E']"
   ]
  },
  {
   "cell_type": "code",
   "execution_count": 78,
   "metadata": {},
   "outputs": [],
   "source": [
    "pumaBB['pcBB'] = pumaBB['B28002_004E']/pumaBB['B28002_001E']*100"
   ]
  },
  {
   "cell_type": "code",
   "execution_count": 79,
   "metadata": {},
   "outputs": [
    {
     "data": {
      "text/html": [
       "<div>\n",
       "<style scoped>\n",
       "    .dataframe tbody tr th:only-of-type {\n",
       "        vertical-align: middle;\n",
       "    }\n",
       "\n",
       "    .dataframe tbody tr th {\n",
       "        vertical-align: top;\n",
       "    }\n",
       "\n",
       "    .dataframe thead th {\n",
       "        text-align: right;\n",
       "    }\n",
       "</style>\n",
       "<table border=\"1\" class=\"dataframe\">\n",
       "  <thead>\n",
       "    <tr style=\"text-align: right;\">\n",
       "      <th></th>\n",
       "      <th>B28002_004E</th>\n",
       "      <th>NAME</th>\n",
       "      <th>state</th>\n",
       "      <th>public use microdata area</th>\n",
       "      <th>Unnamed: 4</th>\n",
       "      <th>B28002_001E</th>\n",
       "      <th>pcBB</th>\n",
       "    </tr>\n",
       "  </thead>\n",
       "  <tbody>\n",
       "    <tr>\n",
       "      <th>0</th>\n",
       "      <td>32607</td>\n",
       "      <td>St. Lawrence County PUMA, New York</td>\n",
       "      <td>36</td>\n",
       "      <td>100</td>\n",
       "      <td>NaN</td>\n",
       "      <td>40479</td>\n",
       "      <td>80.552879</td>\n",
       "    </tr>\n",
       "    <tr>\n",
       "      <th>1</th>\n",
       "      <td>50811</td>\n",
       "      <td>Clinton, Franklin, Essex &amp; Hamilton Counties P...</td>\n",
       "      <td>36</td>\n",
       "      <td>200</td>\n",
       "      <td>NaN</td>\n",
       "      <td>67092</td>\n",
       "      <td>75.733321</td>\n",
       "    </tr>\n",
       "    <tr>\n",
       "      <th>2</th>\n",
       "      <td>41210</td>\n",
       "      <td>Warren &amp; Washington Counties PUMA, New York</td>\n",
       "      <td>36</td>\n",
       "      <td>300</td>\n",
       "      <td>NaN</td>\n",
       "      <td>51614</td>\n",
       "      <td>79.842678</td>\n",
       "    </tr>\n",
       "    <tr>\n",
       "      <th>3</th>\n",
       "      <td>36075</td>\n",
       "      <td>Herkimer (North &amp; Central) &amp; Oneida (Outer) Co...</td>\n",
       "      <td>36</td>\n",
       "      <td>401</td>\n",
       "      <td>NaN</td>\n",
       "      <td>44300</td>\n",
       "      <td>81.433409</td>\n",
       "    </tr>\n",
       "    <tr>\n",
       "      <th>4</th>\n",
       "      <td>47786</td>\n",
       "      <td>Oneida County (Central)--Greater Utica &amp; Rome ...</td>\n",
       "      <td>36</td>\n",
       "      <td>402</td>\n",
       "      <td>NaN</td>\n",
       "      <td>61146</td>\n",
       "      <td>78.150656</td>\n",
       "    </tr>\n",
       "  </tbody>\n",
       "</table>\n",
       "</div>"
      ],
      "text/plain": [
       "   B28002_004E                                               NAME  state  \\\n",
       "0        32607                 St. Lawrence County PUMA, New York     36   \n",
       "1        50811  Clinton, Franklin, Essex & Hamilton Counties P...     36   \n",
       "2        41210        Warren & Washington Counties PUMA, New York     36   \n",
       "3        36075  Herkimer (North & Central) & Oneida (Outer) Co...     36   \n",
       "4        47786  Oneida County (Central)--Greater Utica & Rome ...     36   \n",
       "\n",
       "   public use microdata area  Unnamed: 4  B28002_001E       pcBB  \n",
       "0                        100         NaN        40479  80.552879  \n",
       "1                        200         NaN        67092  75.733321  \n",
       "2                        300         NaN        51614  79.842678  \n",
       "3                        401         NaN        44300  81.433409  \n",
       "4                        402         NaN        61146  78.150656  "
      ]
     },
     "execution_count": 79,
     "metadata": {},
     "output_type": "execute_result"
    }
   ],
   "source": [
    "pumaBB.head()"
   ]
  },
  {
   "cell_type": "markdown",
   "metadata": {},
   "source": [
    "## 2.3 Now compare it with the AFF published \"percentage of households with broadband access\" which is a feature available through their website but that cannot be downloaded directly from the API. It compiled by AFF the same way we did above"
   ]
  },
  {
   "cell_type": "code",
   "execution_count": 84,
   "metadata": {},
   "outputs": [
    {
     "data": {
      "text/plain": [
       "0"
      ]
     },
     "execution_count": 84,
     "metadata": {},
     "output_type": "execute_result"
    }
   ],
   "source": [
    "#!unzip aff_download.zip -d $PUIDATA\n",
    "os.system(\"unzip \" + puidata + \"/aff_download.zip -d \"+puidata)"
   ]
  },
  {
   "cell_type": "code",
   "execution_count": 146,
   "metadata": {},
   "outputs": [
    {
     "data": {
      "text/html": [
       "<div>\n",
       "<style scoped>\n",
       "    .dataframe tbody tr th:only-of-type {\n",
       "        vertical-align: middle;\n",
       "    }\n",
       "\n",
       "    .dataframe tbody tr th {\n",
       "        vertical-align: top;\n",
       "    }\n",
       "\n",
       "    .dataframe thead th {\n",
       "        text-align: right;\n",
       "    }\n",
       "</style>\n",
       "<table border=\"1\" class=\"dataframe\">\n",
       "  <thead>\n",
       "    <tr style=\"text-align: right;\">\n",
       "      <th></th>\n",
       "      <th>GCT_STUB.target-geo-id2</th>\n",
       "      <th>HC01</th>\n",
       "      <th>HC02</th>\n",
       "    </tr>\n",
       "  </thead>\n",
       "  <tbody>\n",
       "    <tr>\n",
       "      <th>0</th>\n",
       "      <td>Target Geo Id2</td>\n",
       "      <td>Percent</td>\n",
       "      <td>Margin of Error</td>\n",
       "    </tr>\n",
       "    <tr>\n",
       "      <th>1</th>\n",
       "      <td>01</td>\n",
       "      <td>74.7</td>\n",
       "      <td>0.5</td>\n",
       "    </tr>\n",
       "    <tr>\n",
       "      <th>2</th>\n",
       "      <td>0100100</td>\n",
       "      <td>70.9</td>\n",
       "      <td>2.5</td>\n",
       "    </tr>\n",
       "    <tr>\n",
       "      <th>3</th>\n",
       "      <td>0100200</td>\n",
       "      <td>80.5</td>\n",
       "      <td>2.7</td>\n",
       "    </tr>\n",
       "    <tr>\n",
       "      <th>4</th>\n",
       "      <td>0100301</td>\n",
       "      <td>87.0</td>\n",
       "      <td>2.8</td>\n",
       "    </tr>\n",
       "  </tbody>\n",
       "</table>\n",
       "</div>"
      ],
      "text/plain": [
       "  GCT_STUB.target-geo-id2     HC01             HC02\n",
       "0          Target Geo Id2  Percent  Margin of Error\n",
       "1                      01     74.7              0.5\n",
       "2                 0100100     70.9              2.5\n",
       "3                 0100200     80.5              2.7\n",
       "4                 0100301     87.0              2.8"
      ]
     },
     "execution_count": 146,
     "metadata": {},
     "output_type": "execute_result"
    }
   ],
   "source": [
    "bbpc = pd.read_csv(os.getenv(\"PUIDATA\") + \"/ACS_16_1YR_GCT2801.ST50_with_ann.csv\",\n",
    "            usecols=[\"GCT_STUB.target-geo-id2\",\"HC01\",\"HC02\"])\n",
    "\n",
    "bbpc.head()"
   ]
  },
  {
   "cell_type": "code",
   "execution_count": 147,
   "metadata": {},
   "outputs": [
    {
     "data": {
      "text/html": [
       "<div>\n",
       "<style scoped>\n",
       "    .dataframe tbody tr th:only-of-type {\n",
       "        vertical-align: middle;\n",
       "    }\n",
       "\n",
       "    .dataframe tbody tr th {\n",
       "        vertical-align: top;\n",
       "    }\n",
       "\n",
       "    .dataframe thead th {\n",
       "        text-align: right;\n",
       "    }\n",
       "</style>\n",
       "<table border=\"1\" class=\"dataframe\">\n",
       "  <thead>\n",
       "    <tr style=\"text-align: right;\">\n",
       "      <th></th>\n",
       "      <th>GCT_STUB.target-geo-id2</th>\n",
       "      <th>HC01</th>\n",
       "      <th>HC02</th>\n",
       "      <th>gid</th>\n",
       "    </tr>\n",
       "  </thead>\n",
       "  <tbody>\n",
       "    <tr>\n",
       "      <th>1</th>\n",
       "      <td>01</td>\n",
       "      <td>74.7</td>\n",
       "      <td>0.5</td>\n",
       "      <td>1</td>\n",
       "    </tr>\n",
       "    <tr>\n",
       "      <th>2</th>\n",
       "      <td>0100100</td>\n",
       "      <td>70.9</td>\n",
       "      <td>2.5</td>\n",
       "      <td>100100</td>\n",
       "    </tr>\n",
       "    <tr>\n",
       "      <th>3</th>\n",
       "      <td>0100200</td>\n",
       "      <td>80.5</td>\n",
       "      <td>2.7</td>\n",
       "      <td>100200</td>\n",
       "    </tr>\n",
       "    <tr>\n",
       "      <th>4</th>\n",
       "      <td>0100301</td>\n",
       "      <td>87.0</td>\n",
       "      <td>2.8</td>\n",
       "      <td>100301</td>\n",
       "    </tr>\n",
       "    <tr>\n",
       "      <th>5</th>\n",
       "      <td>0100302</td>\n",
       "      <td>81.9</td>\n",
       "      <td>2.9</td>\n",
       "      <td>100302</td>\n",
       "    </tr>\n",
       "  </tbody>\n",
       "</table>\n",
       "</div>"
      ],
      "text/plain": [
       "  GCT_STUB.target-geo-id2  HC01  HC02     gid\n",
       "1                      01  74.7   0.5       1\n",
       "2                 0100100  70.9   2.5  100100\n",
       "3                 0100200  80.5   2.7  100200\n",
       "4                 0100301  87.0   2.8  100301\n",
       "5                 0100302  81.9   2.9  100302"
      ]
     },
     "execution_count": 147,
     "metadata": {},
     "output_type": "execute_result"
    }
   ],
   "source": [
    "bbpc.drop(0, inplace=True)\n",
    "bbpc['gid'] = bbpc['GCT_STUB.target-geo-id2'].astype(int)\n",
    "bbpc['HC01'] = bbpc['HC01'].astype(float)\n",
    "bbpc['HC02'] = bbpc['HC02'].astype(float)\n",
    "bbpc.head()"
   ]
  },
  {
   "cell_type": "code",
   "execution_count": 148,
   "metadata": {},
   "outputs": [
    {
     "data": {
      "text/html": [
       "<div>\n",
       "<style scoped>\n",
       "    .dataframe tbody tr th:only-of-type {\n",
       "        vertical-align: middle;\n",
       "    }\n",
       "\n",
       "    .dataframe tbody tr th {\n",
       "        vertical-align: top;\n",
       "    }\n",
       "\n",
       "    .dataframe thead th {\n",
       "        text-align: right;\n",
       "    }\n",
       "</style>\n",
       "<table border=\"1\" class=\"dataframe\">\n",
       "  <thead>\n",
       "    <tr style=\"text-align: right;\">\n",
       "      <th></th>\n",
       "      <th>GCT_STUB.target-geo-id2</th>\n",
       "      <th>HC01</th>\n",
       "      <th>HC02</th>\n",
       "      <th>gid</th>\n",
       "    </tr>\n",
       "  </thead>\n",
       "  <tbody>\n",
       "    <tr>\n",
       "      <th>1</th>\n",
       "      <td>01</td>\n",
       "      <td>74.7</td>\n",
       "      <td>0.5</td>\n",
       "      <td>-3599999</td>\n",
       "    </tr>\n",
       "    <tr>\n",
       "      <th>2</th>\n",
       "      <td>0100100</td>\n",
       "      <td>70.9</td>\n",
       "      <td>2.5</td>\n",
       "      <td>-3499900</td>\n",
       "    </tr>\n",
       "    <tr>\n",
       "      <th>3</th>\n",
       "      <td>0100200</td>\n",
       "      <td>80.5</td>\n",
       "      <td>2.7</td>\n",
       "      <td>-3499800</td>\n",
       "    </tr>\n",
       "    <tr>\n",
       "      <th>4</th>\n",
       "      <td>0100301</td>\n",
       "      <td>87.0</td>\n",
       "      <td>2.8</td>\n",
       "      <td>-3499699</td>\n",
       "    </tr>\n",
       "    <tr>\n",
       "      <th>5</th>\n",
       "      <td>0100302</td>\n",
       "      <td>81.9</td>\n",
       "      <td>2.9</td>\n",
       "      <td>-3499698</td>\n",
       "    </tr>\n",
       "  </tbody>\n",
       "</table>\n",
       "</div>"
      ],
      "text/plain": [
       "  GCT_STUB.target-geo-id2  HC01  HC02      gid\n",
       "1                      01  74.7   0.5 -3599999\n",
       "2                 0100100  70.9   2.5 -3499900\n",
       "3                 0100200  80.5   2.7 -3499800\n",
       "4                 0100301  87.0   2.8 -3499699\n",
       "5                 0100302  81.9   2.9 -3499698"
      ]
     },
     "execution_count": 148,
     "metadata": {},
     "output_type": "execute_result"
    }
   ],
   "source": [
    "bbpc[\"gid\"] = bbpc.gid - 3600000\n",
    "bbpc.head()"
   ]
  },
  {
   "cell_type": "code",
   "execution_count": 149,
   "metadata": {},
   "outputs": [
    {
     "data": {
      "text/html": [
       "<div>\n",
       "<style scoped>\n",
       "    .dataframe tbody tr th:only-of-type {\n",
       "        vertical-align: middle;\n",
       "    }\n",
       "\n",
       "    .dataframe tbody tr th {\n",
       "        vertical-align: top;\n",
       "    }\n",
       "\n",
       "    .dataframe thead th {\n",
       "        text-align: right;\n",
       "    }\n",
       "</style>\n",
       "<table border=\"1\" class=\"dataframe\">\n",
       "  <thead>\n",
       "    <tr style=\"text-align: right;\">\n",
       "      <th></th>\n",
       "      <th>pcBB</th>\n",
       "      <th>HC01</th>\n",
       "      <th>diff</th>\n",
       "    </tr>\n",
       "  </thead>\n",
       "  <tbody>\n",
       "    <tr>\n",
       "      <th>count</th>\n",
       "      <td>145.000000</td>\n",
       "      <td>145.000000</td>\n",
       "      <td>145.000000</td>\n",
       "    </tr>\n",
       "    <tr>\n",
       "      <th>mean</th>\n",
       "      <td>81.845478</td>\n",
       "      <td>81.843448</td>\n",
       "      <td>0.026217</td>\n",
       "    </tr>\n",
       "    <tr>\n",
       "      <th>std</th>\n",
       "      <td>7.063369</td>\n",
       "      <td>7.065358</td>\n",
       "      <td>0.014480</td>\n",
       "    </tr>\n",
       "    <tr>\n",
       "      <th>min</th>\n",
       "      <td>54.932945</td>\n",
       "      <td>54.900000</td>\n",
       "      <td>0.000178</td>\n",
       "    </tr>\n",
       "    <tr>\n",
       "      <th>25%</th>\n",
       "      <td>77.770257</td>\n",
       "      <td>77.800000</td>\n",
       "      <td>0.012252</td>\n",
       "    </tr>\n",
       "    <tr>\n",
       "      <th>50%</th>\n",
       "      <td>82.826141</td>\n",
       "      <td>82.800000</td>\n",
       "      <td>0.027230</td>\n",
       "    </tr>\n",
       "    <tr>\n",
       "      <th>75%</th>\n",
       "      <td>87.305077</td>\n",
       "      <td>87.300000</td>\n",
       "      <td>0.039090</td>\n",
       "    </tr>\n",
       "    <tr>\n",
       "      <th>max</th>\n",
       "      <td>93.404143</td>\n",
       "      <td>93.400000</td>\n",
       "      <td>0.049872</td>\n",
       "    </tr>\n",
       "  </tbody>\n",
       "</table>\n",
       "</div>"
      ],
      "text/plain": [
       "             pcBB        HC01        diff\n",
       "count  145.000000  145.000000  145.000000\n",
       "mean    81.845478   81.843448    0.026217\n",
       "std      7.063369    7.065358    0.014480\n",
       "min     54.932945   54.900000    0.000178\n",
       "25%     77.770257   77.800000    0.012252\n",
       "50%     82.826141   82.800000    0.027230\n",
       "75%     87.305077   87.300000    0.039090\n",
       "max     93.404143   93.400000    0.049872"
      ]
     },
     "execution_count": 149,
     "metadata": {},
     "output_type": "execute_result"
    }
   ],
   "source": [
    "diff_ = pumaBB.merge(bbpc, right_on='gid', \n",
    "                     left_on='public use microdata area')[['pcBB', 'HC01']]\n",
    "\n",
    "diff_[\"diff\"] = np.abs(diff_[\"pcBB\"] - diff_[\"HC01\"])\n",
    "\n",
    "diff_.describe()"
   ]
  },
  {
   "cell_type": "markdown",
   "metadata": {},
   "source": [
    "# 3 Plot a choropleth of NYC broadband access"
   ]
  },
  {
   "cell_type": "markdown",
   "metadata": {},
   "source": [
    "## 3.1 Merge with the puma geodataframe and plot a choropleth of the percentage of households with broadband access"
   ]
  },
  {
   "cell_type": "code",
   "execution_count": 153,
   "metadata": {},
   "outputs": [],
   "source": [
    "pumashp['puma'] = pumashp['puma'].astype(int)"
   ]
  },
  {
   "cell_type": "code",
   "execution_count": 154,
   "metadata": {},
   "outputs": [
    {
     "data": {
      "text/html": [
       "<div>\n",
       "<style scoped>\n",
       "    .dataframe tbody tr th:only-of-type {\n",
       "        vertical-align: middle;\n",
       "    }\n",
       "\n",
       "    .dataframe tbody tr th {\n",
       "        vertical-align: top;\n",
       "    }\n",
       "\n",
       "    .dataframe thead th {\n",
       "        text-align: right;\n",
       "    }\n",
       "</style>\n",
       "<table border=\"1\" class=\"dataframe\">\n",
       "  <thead>\n",
       "    <tr style=\"text-align: right;\">\n",
       "      <th></th>\n",
       "      <th>puma</th>\n",
       "      <th>shape_area</th>\n",
       "      <th>shape_leng</th>\n",
       "      <th>geometry</th>\n",
       "      <th>B28002_004E</th>\n",
       "      <th>NAME</th>\n",
       "      <th>state</th>\n",
       "      <th>public use microdata area</th>\n",
       "      <th>Unnamed: 4</th>\n",
       "      <th>B28002_001E</th>\n",
       "      <th>pcBB</th>\n",
       "    </tr>\n",
       "  </thead>\n",
       "  <tbody>\n",
       "    <tr>\n",
       "      <th>0</th>\n",
       "      <td>3701</td>\n",
       "      <td>9.792852e+07</td>\n",
       "      <td>53227.144461</td>\n",
       "      <td>POLYGON ((-73.89641133483133 40.90450452082026...</td>\n",
       "      <td>35529</td>\n",
       "      <td>NYC-Bronx Community District 8--Riverdale, Fie...</td>\n",
       "      <td>36</td>\n",
       "      <td>3701</td>\n",
       "      <td>NaN</td>\n",
       "      <td>42158</td>\n",
       "      <td>84.275820</td>\n",
       "    </tr>\n",
       "    <tr>\n",
       "      <th>1</th>\n",
       "      <td>3702</td>\n",
       "      <td>1.889860e+08</td>\n",
       "      <td>106050.002302</td>\n",
       "      <td>POLYGON ((-73.8442314689986 40.86942035096838,...</td>\n",
       "      <td>34030</td>\n",
       "      <td>NYC-Bronx Community District 12--Wakefield, Wi...</td>\n",
       "      <td>36</td>\n",
       "      <td>3702</td>\n",
       "      <td>NaN</td>\n",
       "      <td>49817</td>\n",
       "      <td>68.310015</td>\n",
       "    </tr>\n",
       "    <tr>\n",
       "      <th>2</th>\n",
       "      <td>3703</td>\n",
       "      <td>2.670137e+08</td>\n",
       "      <td>304071.257466</td>\n",
       "      <td>(POLYGON ((-73.78833349834532 40.8346671297593...</td>\n",
       "      <td>36716</td>\n",
       "      <td>NYC-Bronx Community District 10--Co-op City, P...</td>\n",
       "      <td>36</td>\n",
       "      <td>3703</td>\n",
       "      <td>NaN</td>\n",
       "      <td>44329</td>\n",
       "      <td>82.826141</td>\n",
       "    </tr>\n",
       "    <tr>\n",
       "      <th>3</th>\n",
       "      <td>3704</td>\n",
       "      <td>1.062129e+08</td>\n",
       "      <td>47970.901277</td>\n",
       "      <td>POLYGON ((-73.84792614069238 40.8713422330779,...</td>\n",
       "      <td>32269</td>\n",
       "      <td>NYC-Bronx Community District 11--Pelham Parkwa...</td>\n",
       "      <td>36</td>\n",
       "      <td>3704</td>\n",
       "      <td>NaN</td>\n",
       "      <td>44476</td>\n",
       "      <td>72.553737</td>\n",
       "    </tr>\n",
       "    <tr>\n",
       "      <th>4</th>\n",
       "      <td>4015</td>\n",
       "      <td>8.105438e+07</td>\n",
       "      <td>50007.415493</td>\n",
       "      <td>POLYGON ((-73.95374853778468 40.63858633758547...</td>\n",
       "      <td>44079</td>\n",
       "      <td>NYC-Brooklyn Community District 14--Flatbush &amp;...</td>\n",
       "      <td>36</td>\n",
       "      <td>4015</td>\n",
       "      <td>NaN</td>\n",
       "      <td>55953</td>\n",
       "      <td>78.778618</td>\n",
       "    </tr>\n",
       "  </tbody>\n",
       "</table>\n",
       "</div>"
      ],
      "text/plain": [
       "   puma    shape_area     shape_leng  \\\n",
       "0  3701  9.792852e+07   53227.144461   \n",
       "1  3702  1.889860e+08  106050.002302   \n",
       "2  3703  2.670137e+08  304071.257466   \n",
       "3  3704  1.062129e+08   47970.901277   \n",
       "4  4015  8.105438e+07   50007.415493   \n",
       "\n",
       "                                            geometry  B28002_004E  \\\n",
       "0  POLYGON ((-73.89641133483133 40.90450452082026...        35529   \n",
       "1  POLYGON ((-73.8442314689986 40.86942035096838,...        34030   \n",
       "2  (POLYGON ((-73.78833349834532 40.8346671297593...        36716   \n",
       "3  POLYGON ((-73.84792614069238 40.8713422330779,...        32269   \n",
       "4  POLYGON ((-73.95374853778468 40.63858633758547...        44079   \n",
       "\n",
       "                                                NAME  state  \\\n",
       "0  NYC-Bronx Community District 8--Riverdale, Fie...     36   \n",
       "1  NYC-Bronx Community District 12--Wakefield, Wi...     36   \n",
       "2  NYC-Bronx Community District 10--Co-op City, P...     36   \n",
       "3  NYC-Bronx Community District 11--Pelham Parkwa...     36   \n",
       "4  NYC-Brooklyn Community District 14--Flatbush &...     36   \n",
       "\n",
       "   public use microdata area  Unnamed: 4  B28002_001E       pcBB  \n",
       "0                       3701         NaN        42158  84.275820  \n",
       "1                       3702         NaN        49817  68.310015  \n",
       "2                       3703         NaN        44329  82.826141  \n",
       "3                       3704         NaN        44476  72.553737  \n",
       "4                       4015         NaN        55953  78.778618  "
      ]
     },
     "execution_count": 154,
     "metadata": {},
     "output_type": "execute_result"
    }
   ],
   "source": [
    "#choropleth of the percentage of internet axcess\n",
    "pumashp = pumashp.merge(pumaBB, right_on='public use microdata area', left_on='puma')\n",
    "pumashp.head()\n"
   ]
  },
  {
   "cell_type": "code",
   "execution_count": 159,
   "metadata": {},
   "outputs": [
    {
     "name": "stdout",
     "output_type": "stream",
     "text": [
      "Figure 1. Map of New York City colored by the percentage of households with broadband access\n"
     ]
    },
    {
     "data": {
      "image/png": "[encoded data removed]",
      "text/plain": [
       "<Figure size 720x720 with 2 Axes>"
      ]
     },
     "metadata": {
      "needs_background": "light"
     },
     "output_type": "display_data"
    }
   ],
   "source": [
    "f, ax, cb = cp.choroplethNYC(pumashp, \"pcBB\", kind='continuous', cmap=\"viridis\")\n",
    "print(\"Figure 1. Map of New York City colored by the percentage of households with broadband access\")"
   ]
  },
  {
   "cell_type": "code",
   "execution_count": null,
   "metadata": {},
   "outputs": [],
   "source": []
  },
  {
   "cell_type": "code",
   "execution_count": null,
   "metadata": {},
   "outputs": [],
   "source": []
  },
  {
   "cell_type": "code",
   "execution_count": null,
   "metadata": {},
   "outputs": [],
   "source": []
  },
  {
   "cell_type": "code",
   "execution_count": null,
   "metadata": {},
   "outputs": [],
   "source": []
  },
  {
   "cell_type": "code",
   "execution_count": null,
   "metadata": {},
   "outputs": [],
   "source": []
  },
  {
   "cell_type": "code",
   "execution_count": null,
   "metadata": {},
   "outputs": [],
   "source": []
  },
  {
   "cell_type": "code",
   "execution_count": null,
   "metadata": {},
   "outputs": [],
   "source": []
  },
  {
   "cell_type": "code",
   "execution_count": null,
   "metadata": {},
   "outputs": [],
   "source": []
  },
  {
   "cell_type": "code",
   "execution_count": null,
   "metadata": {},
   "outputs": [],
   "source": []
  },
  {
   "cell_type": "code",
   "execution_count": null,
   "metadata": {},
   "outputs": [],
   "source": []
  }
 ],
 "metadata": {
  "kernelspec": {
   "display_name": "Python 3",
   "language": "python",
   "name": "python3"
  },
  "language_info": {
   "codemirror_mode": {
    "name": "ipython",
    "version": 3
   },
   "file_extension": ".py",
   "mimetype": "text/x-python",
   "name": "python",
   "nbconvert_exporter": "python",
   "pygments_lexer": "ipython3",
   "version": "3.6.6"
  }
 },
 "nbformat": 4,
 "nbformat_minor": 2
}
